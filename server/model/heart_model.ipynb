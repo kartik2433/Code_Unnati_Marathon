{
 "cells": [
  {
   "cell_type": "code",
   "execution_count": 1,
   "id": "b577131a-1b68-4e6a-8987-19c25d01410a",
   "metadata": {},
   "outputs": [
    {
     "name": "stdout",
     "output_type": "stream",
     "text": [
      "Requirement already satisfied: pandas in c:\\users\\hp\\anaconda3\\lib\\site-packages (2.1.4)\n",
      "Requirement already satisfied: numpy in c:\\users\\hp\\anaconda3\\lib\\site-packages (1.26.3)\n",
      "Requirement already satisfied: scikit-learn in c:\\users\\hp\\anaconda3\\lib\\site-packages (1.2.2)\n",
      "Requirement already satisfied: xgboost in c:\\users\\hp\\anaconda3\\lib\\site-packages (2.0.3)\n",
      "Requirement already satisfied: python-dateutil>=2.8.2 in c:\\users\\hp\\anaconda3\\lib\\site-packages (from pandas) (2.8.2)\n",
      "Requirement already satisfied: pytz>=2020.1 in c:\\users\\hp\\anaconda3\\lib\\site-packages (from pandas) (2023.3.post1)\n",
      "Requirement already satisfied: tzdata>=2022.1 in c:\\users\\hp\\anaconda3\\lib\\site-packages (from pandas) (2023.3)\n",
      "Requirement already satisfied: scipy>=1.3.2 in c:\\users\\hp\\anaconda3\\lib\\site-packages (from scikit-learn) (1.11.4)\n",
      "Requirement already satisfied: joblib>=1.1.1 in c:\\users\\hp\\anaconda3\\lib\\site-packages (from scikit-learn) (1.2.0)\n",
      "Requirement already satisfied: threadpoolctl>=2.0.0 in c:\\users\\hp\\anaconda3\\lib\\site-packages (from scikit-learn) (2.2.0)\n",
      "Requirement already satisfied: six>=1.5 in c:\\users\\hp\\anaconda3\\lib\\site-packages (from python-dateutil>=2.8.2->pandas) (1.16.0)\n",
      "Note: you may need to restart the kernel to use updated packages.\n"
     ]
    }
   ],
   "source": [
    "pip install pandas numpy scikit-learn xgboost"
   ]
  },
  {
   "cell_type": "code",
   "execution_count": 2,
   "id": "17764c0d-e0f8-45ec-bf95-d9b7703a72fc",
   "metadata": {},
   "outputs": [
    {
     "name": "stdin",
     "output_type": "stream",
     "text": [
      "Enter age:  20\n",
      "Enter sex (0 for female, 1 for male):  1\n",
      "Enter chest pain type (0-3):  2\n",
      "Enter resting blood pressure (mm Hg):  123\n",
      "Enter serum cholestoral (mg/dl):  32\n",
      "Enter fasting blood sugar (> 120 mg/dl, 1 for true, 0 for false):  1\n",
      "Enter resting electrocardiographic results (0-2):  1\n",
      "Enter maximum heart rate achieved:  234\n",
      "Enter exercise induced angina (1 for yes, 0 for no):  0\n",
      "Enter ST depression induced by exercise relative to rest:  23\n",
      "Enter the slope of the peak exercise ST segment (0-2):  1\n",
      "Enter number of major vessels (0-3) colored by flourosopy:  1\n",
      "Enter thal (3 = normal; 6 = fixed defect; 7 = reversable defect):  3\n"
     ]
    },
    {
     "name": "stdout",
     "output_type": "stream",
     "text": [
      "No heart disease detected.\n"
     ]
    },
    {
     "name": "stderr",
     "output_type": "stream",
     "text": [
      "C:\\Users\\HP\\anaconda3\\Lib\\site-packages\\sklearn\\base.py:439: UserWarning: X does not have valid feature names, but StandardScaler was fitted with feature names\n",
      "  warnings.warn(\n"
     ]
    }
   ],
   "source": [
    "# Importing necessary libraries\n",
    "import pandas as pd\n",
    "import numpy as np\n",
    "from sklearn.model_selection import train_test_split\n",
    "from sklearn.preprocessing import StandardScaler\n",
    "from sklearn.ensemble import RandomForestClassifier\n",
    "from sklearn.metrics import accuracy_score\n",
    "\n",
    "# Load the dataset (replace 'heart.csv' with your dataset)\n",
    "data = pd.read_csv('heart.csv')\n",
    "\n",
    "# Preprocessing the data\n",
    "X = data.drop('target', axis=1)\n",
    "y = data['target']\n",
    "\n",
    "# Splitting the data into training and testing sets\n",
    "X_train, X_test, y_train, y_test = train_test_split(X, y, test_size=0.2, random_state=42)\n",
    "\n",
    "# Feature scaling\n",
    "scaler = StandardScaler()\n",
    "X_train = scaler.fit_transform(X_train)\n",
    "X_test = scaler.transform(X_test)\n",
    "\n",
    "# Training the model\n",
    "model = RandomForestClassifier(random_state=42)\n",
    "model.fit(X_train, y_train)\n",
    "\n",
    "# Predicting on user input data\n",
    "def predict_heart_disease(age, sex, cp, trestbps, chol, fbs, restecg, thalach, exang, oldpeak, slope, ca, thal):\n",
    "    user_data = np.array([[age, sex, cp, trestbps, chol, fbs, restecg, thalach, exang, oldpeak, slope, ca, thal]])\n",
    "    user_data = scaler.transform(user_data)\n",
    "    prediction = model.predict(user_data)\n",
    "    if prediction[0] == 0:\n",
    "        return \"No heart disease detected.\"\n",
    "    else:\n",
    "        return \"Heart disease detected.\"\n",
    "\n",
    "# Example usage\n",
    "age = int(input(\"Enter age: \"))\n",
    "sex = int(input(\"Enter sex (0 for female, 1 for male): \"))\n",
    "cp = int(input(\"Enter chest pain type (0-3): \"))\n",
    "trestbps = int(input(\"Enter resting blood pressure (mm Hg): \"))\n",
    "chol = int(input(\"Enter serum cholestoral (mg/dl): \"))\n",
    "fbs = int(input(\"Enter fasting blood sugar (> 120 mg/dl, 1 for true, 0 for false): \"))\n",
    "restecg = int(input(\"Enter resting electrocardiographic results (0-2): \"))\n",
    "thalach = int(input(\"Enter maximum heart rate achieved: \"))\n",
    "exang = int(input(\"Enter exercise induced angina (1 for yes, 0 for no): \"))\n",
    "oldpeak = float(input(\"Enter ST depression induced by exercise relative to rest: \"))\n",
    "slope = int(input(\"Enter the slope of the peak exercise ST segment (0-2): \"))\n",
    "ca = int(input(\"Enter number of major vessels (0-3) colored by flourosopy: \"))\n",
    "thal = int(input(\"Enter thal (3 = normal; 6 = fixed defect; 7 = reversable defect): \"))\n",
    "\n",
    "result = predict_heart_disease(age, sex, cp, trestbps, chol, fbs, restecg, thalach, exang, oldpeak, slope, ca, thal)\n",
    "print(result)\n"
   ]
  },
  {
   "cell_type": "code",
   "execution_count": 4,
   "id": "ad116185-4631-4b13-8d68-7a4404a4dbb2",
   "metadata": {},
   "outputs": [],
   "source": [
    "import pickle\n",
    "pickle_out = open(\"classifier.pkl\",\"wb\")\n",
    "pickle.dump(model,pickle_out)\n",
    "pickle_out.close()"
   ]
  },
  {
   "cell_type": "code",
   "execution_count": null,
   "id": "da466180-3859-47e9-9099-254479264838",
   "metadata": {},
   "outputs": [],
   "source": []
  }
 ],
 "metadata": {
  "kernelspec": {
   "display_name": "Python 3 (ipykernel)",
   "language": "python",
   "name": "python3"
  },
  "language_info": {
   "codemirror_mode": {
    "name": "ipython",
    "version": 3
   },
   "file_extension": ".py",
   "mimetype": "text/x-python",
   "name": "python",
   "nbconvert_exporter": "python",
   "pygments_lexer": "ipython3",
   "version": "3.11.7"
  }
 },
 "nbformat": 4,
 "nbformat_minor": 5
}
